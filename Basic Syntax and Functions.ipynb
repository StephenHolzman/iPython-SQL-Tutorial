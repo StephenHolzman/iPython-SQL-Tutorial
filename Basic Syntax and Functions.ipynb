{
 "metadata": {
  "name": "",
  "signature": "sha256:d3648c2c89a886a2efa7869c68e702f3fd1906436e1473e79f951e6084f6208b"
 },
 "nbformat": 3,
 "nbformat_minor": 0,
 "worksheets": [
  {
   "cells": [
    {
     "cell_type": "code",
     "collapsed": false,
     "input": [],
     "language": "python",
     "metadata": {},
     "outputs": []
    }
   ],
   "metadata": {}
  }
 ]
}